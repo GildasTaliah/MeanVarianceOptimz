{
  "nbformat": 4,
  "nbformat_minor": 0,
  "metadata": {
    "colab": {
      "provenance": [],
      "include_colab_link": true
    },
    "kernelspec": {
      "name": "python3",
      "display_name": "Python 3"
    },
    "language_info": {
      "name": "python"
    }
  },
  "cells": [
    {
      "cell_type": "markdown",
      "metadata": {
        "id": "view-in-github",
        "colab_type": "text"
      },
      "source": [
        "<a href=\"https://colab.research.google.com/github/GildasTaliah/MeanVarianceOptimz/blob/main/MeanVarianceOptimz.ipynb\" target=\"_parent\"><img src=\"https://colab.research.google.com/assets/colab-badge.svg\" alt=\"Open In Colab\"/></a>"
      ]
    },
    {
      "cell_type": "markdown",
      "source": [
        "# Introduction\n",
        "\n",
        "The Mean Variance optimization identifies efficient portfolios interms of their expected returns $\\hat{\\mu}$ and variances $\\hat{\\sigma}$. The framework presented here is grounded in Markowitz portfolio theory.  \n",
        "\n",
        "Expected returns usually reflect anticipated average returns for assets or portfolio, usually estimated from historical data, bayesian analysis, (machine learning) prediction etc. Variance and covariances, which is considered a measure of risk, actually indicates return variability, with higher values often signifying greater risk. While variance has limitations as a risk measure, it's widely used in portfolio analysis a (proxy) measure of risk.\n",
        "\n",
        "The expected returns, variances and covariances would be computed as follows:   \n",
        "\n",
        "\n",
        "\n",
        "\n",
        "\\begin{align*}\n",
        "\\mu &=  \\hat{\\mu}_{i} = \\frac{1}{T} \\sum_{t=1}^{T} R_{it} \\quad \\text{for } i = 1, 2, \\ldots, N  \\quad and \\quad  t = 1, 2, \\ldots, T \\\\\n",
        "\\Sigma &= \\hat{\\sigma}_{ij} = \\frac{1}{T} \\sum_{t=1}^{T} (R_{it} - \\hat{\\mu}_i)(R_{jt} - \\hat{\\mu}_j) \\quad \\text{for } i,j = 1, 2, \\ldots, N\n",
        "\\end{align*}\n",
        "\n",
        "\n",
        "\n",
        "\n",
        "where $R_{it}$ represents the return for asset $i$ at time $t$, $T$ the number of historical return observations of asset $i$, $N$ the number of assets,  $\\hat{\\sigma}_{ij}$ is the covariance between the $i$-th and $j$-th stock returns (in case $i$ = $j$ it becomes the variance of the $i$-th stock returns).  \n"
      ],
      "metadata": {
        "id": "v_gw_tvN9cDF"
      }
    },
    {
      "cell_type": "markdown",
      "source": [
        "# Problem Statement"
      ],
      "metadata": {
        "id": "vSSc3e3jg6BE"
      }
    },
    {
      "cell_type": "markdown",
      "source": [
        "The portfolio returns and variance would be computed as such:\n",
        "\n",
        "\n",
        "\\begin{align*}\n",
        "\\text{Portfolio return} = \\mu_{p} = \\sum_{i=1}^{N} w_i \\mu_{i}   = w' \\mu\n",
        "\\end{align*}\n",
        "\n",
        "\n",
        "\\begin{align*}\n",
        "\\text{Portfolio variance} = \\sigma_{p} = \\sqrt{w' \\Sigma w}\n",
        "\\end{align*}\n",
        "\n",
        "\n",
        "\n",
        "Where $w$ represents the weight vector. The objective of the Mean Variance framework is to minimize portfolio variance $\\sigma_{p}$ subject to certain constraints.\n",
        "\n",
        "\n",
        "The portfolio selection problem considered in this project is  formulated in the following way:\n",
        "\n",
        "\n",
        "\n",
        "\n",
        "\\begin{align*}\n",
        "\\underset{w}{\\text{Min:}} \\quad w' \\Sigma w  \\\\\n",
        "\\text{s.t:} \\quad \\sum_{i=1}^{N} w_i = 1\n",
        "\\end{align*}\n",
        "\n",
        "\n",
        "\\begin{align*}\n",
        "\\quad \\quad \\quad 0 \\leq w_i \\leq 1\n",
        "\\\\\n",
        "w' \\mu = R_{TargetReturn}\n",
        "\\end{align*}\n",
        "\n",
        "\n",
        "\n",
        "The optimization problem aims at minimizing the portfolios return variance, subject to the **budget constraint**, weights sum to $unity$ (which  further indicates the portfolio is fully invested) and the **non-negativity constraints** indicates we do not allow for $short selling$, while the last constraint (**target return level**) ensures that the portfolio's expected return is equal to the specified target return."
      ],
      "metadata": {
        "id": "XkfhEg36CXJh"
      }
    },
    {
      "cell_type": "markdown",
      "source": [
        "  \n",
        "\n",
        "We start by writing the function necessary to download the data. The python packages $datetime$ and $yfinance$ will be used for this purpose, while the $pandas$ and $numpy$ package used for data manipulation is also imported.  Afterwards, we proceed to define the functions required to carry out the optimization routine (for the selected pair of stocks) as described above.\n",
        "\n",
        "\n"
      ],
      "metadata": {
        "id": "2SZ3KtJ0Eu5k"
      }
    },
    {
      "cell_type": "markdown",
      "source": [
        "\n",
        "Some constraints would be left out in case where they are not needed. For example, when constructing the minimum variance portfolio, only the objective function, the budget constraint and the absence of short selling constraint would be considerd. Similarly, when maximizing the Sharpe ratio, the budget constraint and the absence of short selling constraint would be considerd and the objective function switches from minimizing portfolio variance to maximizing portfolio Sharpe ratio (implemented as minimizing **-sharpeRatio**). In these two cases, the target return constraint is dropped. The portfolio Sharpe ratio is computed as:\n",
        "\n",
        "\n",
        "\\begin{align*}\n",
        "\\text{Portfolio Sharpe ratio} = \\frac{\\mu_{p} - rf}{\\sigma_{p}}\n",
        "\\end{align*}\n",
        "\n",
        "where *rf* is the risk free rate, we consider 2.5% in this project. Actually, the current Germany 3 months Gorvernment bond yields is 3.819%.\n",
        "\n",
        "\n",
        "## Download data\n",
        "We now proceed to import some packages and define a custom function necessary for downloading the closing prices of a pair of stocks in a list.\n",
        "\n"
      ],
      "metadata": {
        "id": "ksTKzl5fepmF"
      }
    },
    {
      "cell_type": "code",
      "source": [
        "import datetime as dt\n",
        "import yfinance as yf\n",
        "import pandas as pd\n",
        "\n",
        "St = dt.datetime(2019, 1, 1)\n",
        "Sp = dt.datetime(2023, 12, 31)\n",
        "def read_data(ticker_list, start = St, end = Sp):\n",
        "\n",
        "  '''\n",
        "  This function takes in a list of tickers - ticker_list, downloads historical\n",
        "  prices from yahoo for the (default) timeframe - St, Sp.  Extracts the closing\n",
        "  prices for each ticker and returns a dataframe with the merged data.\n",
        "  '''\n",
        "\n",
        "  DataFrame = pd.DataFrame()\n",
        "  for tick in ticker_list:\n",
        "    stock = yf.Ticker(tick)\n",
        "    prices = stock.history(start=start, end=end)\n",
        "    # Change  index to date-only\n",
        "    prices.index = pd.to_datetime(prices.index)\n",
        "    closing_prices = prices['Close']\n",
        "    DataFrame[tick] = closing_prices\n",
        "\n",
        "  return DataFrame"
      ],
      "metadata": {
        "id": "rppg96Fz9cKl"
      },
      "execution_count": 1,
      "outputs": []
    },
    {
      "cell_type": "code",
      "source": [
        "\n",
        "# 15 Randomly selected stocks from DAX Plus Export Strategy index composition\n",
        "ExpTick = ([\"WAF.DE\", \"HEI.DE\", \"PUM.DE\", \"SY1.DE\", \"MRK.DE\", \"SHL.DE\", \"MOR.DE\",\n",
        "\"KRN.DE\", \"G1A.DE\", \"MTX.DE\", \"HEN3.DE\", \"ADS.DE\", \"FRE.DE\", \"BAYN.DE\",\"BOSS.DE\"])\n",
        "\n",
        "# 20 Randomly selected from DAX Plus Maximum Dividend index composition\n",
        "DivTick = ([\"AIXA.DE\", \"ALV.DE\", \"BAS.DE\", \"BMW.DE\", \"BC8.DE\", \"BNR.DE\", \"CBK.DE\",\n",
        "\"EVD.DE\", \"DBK.DE\", \"DB1.DE\", \"EOAN.DE\", \"FNTN.DE\", \"GXI.DE\", \"HEN3.DE\", \"NEM.DE\",\n",
        "\"PUM.DE\", \"G24.DE\", \"O2D.DE\", \"VOW3.DE\", \"WCH.DE\" ])\n",
        "\n",
        "# 30 Randomly selected stocks from DAX 50 ESG index composition\n",
        "EsgTick = ([ \"FRA.DE\", \"DBK.DE\",  \"ADS.DE\", \"ALV.DE\", \"NDA.DE\", \"BAS.DE\", \"BMW.DE\",\n",
        "\"BEI.DE\", \"CBK.DE\",  \"1COV.DE\", \"DB1.DE\", \"DTE.DE\", \"FNTN.DE\",  \"FRE.DE\", \"G1A.DE\",\n",
        "\"HNR1.DE\", \"HEN3.DE\", \"BOSS.DE\", \"IFX.DE\",  \"LIN.DE\", \"LHA.DE\", \"MRK.DE\", \"MUV2.DE\",\n",
        "\"SAP.DE\", \"G24.DE\", \"SIE.DE\", \"TLX.DE\", \"O2D.DE\", \"VNA.DE\", \"WCH.DE\"])\n",
        "\n",
        "Tickers = {'DaxExpTick': ExpTick, 'DaxDivTick': DivTick, 'DaxEsgTick': EsgTick}"
      ],
      "metadata": {
        "id": "bn7MCmyG1Vta"
      },
      "execution_count": 3,
      "outputs": []
    },
    {
      "cell_type": "markdown",
      "source": [
        "\n",
        "## Compute Returns\n",
        "All data underwent thorough checks to ensure completeness, and stocks with missing values were excluded from the analysis. For optimal weight determination, we utilized daily data from January 2019 to December 2023 for the in-sample period, while the out-of-sample evaluation spanned from January 2024 to March 2024 to assess performance. we now compute retuns which will be the input to the optimization process\n",
        "\n"
      ],
      "metadata": {
        "id": "R1o-D7IFL5HA"
      }
    },
    {
      "cell_type": "code",
      "source": [
        "# Download data and compute simple returns.\n",
        "Returns = ({ key: read_data(ticker).pct_change().dropna() for key, ticker in\n",
        "           Tickers.items()})"
      ],
      "metadata": {
        "id": "MIPFTz8wMlU7"
      },
      "execution_count": 6,
      "outputs": []
    },
    {
      "cell_type": "markdown",
      "source": [
        "# Optimal Portfolio Weights\n",
        "\n",
        "We define the function $MinVolMaxSharpe$ to take in return data and compute the optimal weights for the Minimum Volatility and Maximal Sharpe ratio portfolio.\n",
        "\n",
        "Since our objective functions (portfolio variance and Sharpe ratio) are quadratic in nature and twice continuously differentiable, we use the Sequential Least Squares programming algorithm -  **SLSQP** optimizer, which is considered an optimization algorithm ideal for mathematical problems where the objective function is twice continuously differentiable. We utilize the $scipy$ package to carry out the entire optimization routine"
      ],
      "metadata": {
        "id": "roieStlFm-io"
      }
    },
    {
      "cell_type": "code",
      "source": [
        "import scipy.optimize as sco\n",
        "import numpy as np\n",
        "\n",
        "def MinVolMaxSharpe(ret):\n",
        "\n",
        "  ''' Input: Takes in Stock Returns Matrix, computes the optimal weights for the\n",
        "  given object functions: Min Vol and Max Sharpe.\n",
        "  Output : return a weight matrix: Equally, Min Vol and Max Sharpe weights\n",
        "  '''\n",
        "\n",
        "  # Number of asset\n",
        "  noa = len(ret.columns)\n",
        "\n",
        "  # Initial weights: Equally weighted\n",
        "  W = np.repeat(1/noa, noa)\n",
        "\n",
        "  # Portfolio return, vol and sharpe ratio function\n",
        "  def port_ret(W):\n",
        "    return np.sum(ret.mean() * W) * 252\n",
        "\n",
        "\n",
        "  def port_vol(W):\n",
        "    return np.sqrt(np.dot(W.T,  np.dot(ret[ret < 0].cov() * 252, W)))\n",
        "\n",
        "  def min_func_sharpe(W):\n",
        "    return - (port_ret(W) - 0.025) /port_vol(W)\n",
        "\n",
        "  # Budget and non-negativity contraints\n",
        "  cons = ({'type': 'eq', 'fun': lambda w: np.sum(w) - 1})\n",
        "  bnds = tuple((0,1) for i in range(noa))\n",
        "\n",
        "  # Minimizing the portfolio volatility: mv\n",
        "  optmv = (sco.minimize(\n",
        "          # objective function: OF\n",
        "          port_vol,\n",
        "          # Initial guess, which is the equal weight array: IW\n",
        "          W,\n",
        "          method = 'SLSQP', constraints= cons, bounds= bnds))\n",
        "  mvW = optmv['x']\n",
        "  mvret = port_ret(optmv['x'])\n",
        "  mvvol = port_vol( optmv['x'])\n",
        "\n",
        "  eqret = port_ret(W)\n",
        "  eqvol = port_vol(W)\n",
        "  print(f'EquallyWReturns: {eqret * 100} Vol: {eqvol * 100}')\n",
        "  print(f'MinVolReturns: {mvret * 100} Vol: {mvvol * 100}')\n",
        "\n",
        "\n",
        "  # Maximizing the portfolio sharpe ratio: ms\n",
        "  optms = (sco.minimize(\n",
        "          # OF          # IW\n",
        "          min_func_sharpe, W, method = 'SLSQP', constraints= cons,\n",
        "                     bounds= bnds))\n",
        "  msW = optms['x']\n",
        "  msret = port_ret( optms['x'])\n",
        "  msvol = port_vol(optms['x'])\n",
        "  print(f'MaxSharpeReturns: {msret * 100} Vol: {msvol * 100}')\n",
        "\n",
        "  dataW = pd.DataFrame({'EqualW': W,  'MinVolW': mvW, 'MaxShapW': msW})\n",
        "\n",
        "  return dataW"
      ],
      "metadata": {
        "id": "8A5uEsP0NzHM"
      },
      "execution_count": 7,
      "outputs": []
    },
    {
      "cell_type": "code",
      "source": [
        "# Obtain Optimal weights\n",
        "W = ({key:(print(key), MinVolMaxSharpe(ret))[1] for key, ret in Returns.items()})\n",
        "\n",
        "\n"
      ],
      "metadata": {
        "colab": {
          "base_uri": "https://localhost:8080/"
        },
        "id": "Stk5wuDqWROB",
        "outputId": "9391a242-6464-4ff5-97ef-4c949fc496d3"
      },
      "execution_count": 8,
      "outputs": [
        {
          "output_type": "stream",
          "name": "stdout",
          "text": [
            "DaxExpTick\n",
            "EquallyWReturns: 9.369579688875993 Vol: 16.77208176163959\n",
            "MinVolReturns: 6.903938833689459 Vol: 12.883662379188237\n",
            "MaxSharpeReturns: 14.591652491066831 Vol: 15.23216938104633\n",
            "DaxDivTick\n",
            "EquallyWReturns: 16.816448017103312 Vol: 17.1703882793507\n",
            "MinVolReturns: 10.462280858090855 Vol: 12.288968242403044\n",
            "MaxSharpeReturns: 30.04107352306253 Vol: 19.80909726437358\n",
            "DaxEsgTick\n",
            "EquallyWReturns: 14.019388542480046 Vol: 17.53522751560522\n",
            "MinVolReturns: 9.429502084449252 Vol: 11.963533408117154\n",
            "MaxSharpeReturns: 22.024936332789718 Vol: 15.435875511757255\n"
          ]
        }
      ]
    },
    {
      "cell_type": "markdown",
      "source": [
        "\n",
        "\n",
        "\n",
        "\n",
        "Above, we observe the results from the in-sample optimization process. The findings indicate that the *minimum volatility* portfolio constructed from the **DAX ESG** composition exhibits the *lowest volatility* at 11.96%. Conversely, the *maximum Sharpe* portfolio constructed from the **DAX Dividend** composition experiences the *highest volatility* at 19.81%, followed by the *equally weighted* portfolio under the **DAX ESG** with 17.54% volatility. The *minimum volatility* is unsurprisingly the least volatile investment strategy across all sectors on average.\n",
        "\n",
        "The **DAX Dividend** however enjoys the *highest return* at 30.04%, followed by **DAX ESG** at 22.03% both constructted utilizing the *maximum Sharpe* investment strategy. Now, let us explore how these portfolios perform out-of-sample, which would be perhaps the most important outcome of this analysis.\n",
        "\n"
      ],
      "metadata": {
        "id": "6BabXKFuz4wg"
      }
    },
    {
      "cell_type": "markdown",
      "source": [
        "# Out-of-sample results"
      ],
      "metadata": {
        "id": "Z_DrTJsOLsbc"
      }
    },
    {
      "cell_type": "code",
      "source": [
        "#  Function to compute out-sample portfolio return with optimal weights\n",
        "def port_return(R, W):\n",
        "\n",
        "  ''' Input: R - Dataframe of Out-sample returns data.\n",
        "  W - Matrix of optimal (equally, MinVol, MaxSharpe) weights '''\n",
        "\n",
        "  # Create frame to store results\n",
        "  port_df = pd.DataFrame()\n",
        "\n",
        "  # Compute portfolio returns for each column\n",
        "  for col in W.columns:\n",
        "    p_ret = np.dot(R, W[col])\n",
        "    port_df[col] = p_ret\n",
        "\n",
        "  return port_df\n",
        "\n"
      ],
      "metadata": {
        "id": "XybYPl3tZZUB"
      },
      "execution_count": 9,
      "outputs": []
    },
    {
      "cell_type": "markdown",
      "source": [
        "As indicated earlier, the out-of-sample period corresponds to the first quarter of 2024. We will now proceed to download the data, compute returns, and calculate the out-of-sample portfolio returns."
      ],
      "metadata": {
        "id": "6Ax3yUwD9QvK"
      }
    },
    {
      "cell_type": "code",
      "source": [
        "St = dt.datetime(2024, 1, 1)\n",
        "Sp = dt.datetime(2024, 3, 31)\n",
        "\n",
        "O_Returns = ({ key: read_data(ticker, St, Sp).pct_change().dropna() for key, ticker\n",
        "            in Tickers.items()})"
      ],
      "metadata": {
        "id": "55hQFXGUoZnY"
      },
      "execution_count": 10,
      "outputs": []
    },
    {
      "cell_type": "code",
      "source": [
        "# @title Out-sample results\n",
        "# arithmetic mean of daily returns\n",
        "O_portRet = {key: port_return(O_Returns[key], W[key]) for key in W.keys()}\n",
        "mean = {key: (df.mean() * 100) for key, df in O_portRet.items()}\n",
        "pd.DataFrame(mean).T"
      ],
      "metadata": {
        "colab": {
          "base_uri": "https://localhost:8080/",
          "height": 142
        },
        "id": "xXEy6CiemHMT",
        "outputId": "7b290c5a-fd70-436d-c824-638d062272c9"
      },
      "execution_count": 13,
      "outputs": [
        {
          "output_type": "execute_result",
          "data": {
            "text/plain": [
              "              EqualW   MinVolW  MaxShapW\n",
              "DaxExpTick  0.122673  0.141641  0.164656\n",
              "DaxDivTick  0.078082  0.096689 -0.196059\n",
              "DaxEsgTick  0.071740  0.061067  0.191973"
            ],
            "text/html": [
              "\n",
              "  <div id=\"df-5257718a-fcf0-48b6-b85e-a5307a2c7a48\" class=\"colab-df-container\">\n",
              "    <div>\n",
              "<style scoped>\n",
              "    .dataframe tbody tr th:only-of-type {\n",
              "        vertical-align: middle;\n",
              "    }\n",
              "\n",
              "    .dataframe tbody tr th {\n",
              "        vertical-align: top;\n",
              "    }\n",
              "\n",
              "    .dataframe thead th {\n",
              "        text-align: right;\n",
              "    }\n",
              "</style>\n",
              "<table border=\"1\" class=\"dataframe\">\n",
              "  <thead>\n",
              "    <tr style=\"text-align: right;\">\n",
              "      <th></th>\n",
              "      <th>EqualW</th>\n",
              "      <th>MinVolW</th>\n",
              "      <th>MaxShapW</th>\n",
              "    </tr>\n",
              "  </thead>\n",
              "  <tbody>\n",
              "    <tr>\n",
              "      <th>DaxExpTick</th>\n",
              "      <td>0.122673</td>\n",
              "      <td>0.141641</td>\n",
              "      <td>0.164656</td>\n",
              "    </tr>\n",
              "    <tr>\n",
              "      <th>DaxDivTick</th>\n",
              "      <td>0.078082</td>\n",
              "      <td>0.096689</td>\n",
              "      <td>-0.196059</td>\n",
              "    </tr>\n",
              "    <tr>\n",
              "      <th>DaxEsgTick</th>\n",
              "      <td>0.071740</td>\n",
              "      <td>0.061067</td>\n",
              "      <td>0.191973</td>\n",
              "    </tr>\n",
              "  </tbody>\n",
              "</table>\n",
              "</div>\n",
              "    <div class=\"colab-df-buttons\">\n",
              "\n",
              "  <div class=\"colab-df-container\">\n",
              "    <button class=\"colab-df-convert\" onclick=\"convertToInteractive('df-5257718a-fcf0-48b6-b85e-a5307a2c7a48')\"\n",
              "            title=\"Convert this dataframe to an interactive table.\"\n",
              "            style=\"display:none;\">\n",
              "\n",
              "  <svg xmlns=\"http://www.w3.org/2000/svg\" height=\"24px\" viewBox=\"0 -960 960 960\">\n",
              "    <path d=\"M120-120v-720h720v720H120Zm60-500h600v-160H180v160Zm220 220h160v-160H400v160Zm0 220h160v-160H400v160ZM180-400h160v-160H180v160Zm440 0h160v-160H620v160ZM180-180h160v-160H180v160Zm440 0h160v-160H620v160Z\"/>\n",
              "  </svg>\n",
              "    </button>\n",
              "\n",
              "  <style>\n",
              "    .colab-df-container {\n",
              "      display:flex;\n",
              "      gap: 12px;\n",
              "    }\n",
              "\n",
              "    .colab-df-convert {\n",
              "      background-color: #E8F0FE;\n",
              "      border: none;\n",
              "      border-radius: 50%;\n",
              "      cursor: pointer;\n",
              "      display: none;\n",
              "      fill: #1967D2;\n",
              "      height: 32px;\n",
              "      padding: 0 0 0 0;\n",
              "      width: 32px;\n",
              "    }\n",
              "\n",
              "    .colab-df-convert:hover {\n",
              "      background-color: #E2EBFA;\n",
              "      box-shadow: 0px 1px 2px rgba(60, 64, 67, 0.3), 0px 1px 3px 1px rgba(60, 64, 67, 0.15);\n",
              "      fill: #174EA6;\n",
              "    }\n",
              "\n",
              "    .colab-df-buttons div {\n",
              "      margin-bottom: 4px;\n",
              "    }\n",
              "\n",
              "    [theme=dark] .colab-df-convert {\n",
              "      background-color: #3B4455;\n",
              "      fill: #D2E3FC;\n",
              "    }\n",
              "\n",
              "    [theme=dark] .colab-df-convert:hover {\n",
              "      background-color: #434B5C;\n",
              "      box-shadow: 0px 1px 3px 1px rgba(0, 0, 0, 0.15);\n",
              "      filter: drop-shadow(0px 1px 2px rgba(0, 0, 0, 0.3));\n",
              "      fill: #FFFFFF;\n",
              "    }\n",
              "  </style>\n",
              "\n",
              "    <script>\n",
              "      const buttonEl =\n",
              "        document.querySelector('#df-5257718a-fcf0-48b6-b85e-a5307a2c7a48 button.colab-df-convert');\n",
              "      buttonEl.style.display =\n",
              "        google.colab.kernel.accessAllowed ? 'block' : 'none';\n",
              "\n",
              "      async function convertToInteractive(key) {\n",
              "        const element = document.querySelector('#df-5257718a-fcf0-48b6-b85e-a5307a2c7a48');\n",
              "        const dataTable =\n",
              "          await google.colab.kernel.invokeFunction('convertToInteractive',\n",
              "                                                    [key], {});\n",
              "        if (!dataTable) return;\n",
              "\n",
              "        const docLinkHtml = 'Like what you see? Visit the ' +\n",
              "          '<a target=\"_blank\" href=https://colab.research.google.com/notebooks/data_table.ipynb>data table notebook</a>'\n",
              "          + ' to learn more about interactive tables.';\n",
              "        element.innerHTML = '';\n",
              "        dataTable['output_type'] = 'display_data';\n",
              "        await google.colab.output.renderOutput(dataTable, element);\n",
              "        const docLink = document.createElement('div');\n",
              "        docLink.innerHTML = docLinkHtml;\n",
              "        element.appendChild(docLink);\n",
              "      }\n",
              "    </script>\n",
              "  </div>\n",
              "\n",
              "\n",
              "<div id=\"df-934a860c-72a8-49d2-9ea2-40c93a6eab4c\">\n",
              "  <button class=\"colab-df-quickchart\" onclick=\"quickchart('df-934a860c-72a8-49d2-9ea2-40c93a6eab4c')\"\n",
              "            title=\"Suggest charts\"\n",
              "            style=\"display:none;\">\n",
              "\n",
              "<svg xmlns=\"http://www.w3.org/2000/svg\" height=\"24px\"viewBox=\"0 0 24 24\"\n",
              "     width=\"24px\">\n",
              "    <g>\n",
              "        <path d=\"M19 3H5c-1.1 0-2 .9-2 2v14c0 1.1.9 2 2 2h14c1.1 0 2-.9 2-2V5c0-1.1-.9-2-2-2zM9 17H7v-7h2v7zm4 0h-2V7h2v10zm4 0h-2v-4h2v4z\"/>\n",
              "    </g>\n",
              "</svg>\n",
              "  </button>\n",
              "\n",
              "<style>\n",
              "  .colab-df-quickchart {\n",
              "      --bg-color: #E8F0FE;\n",
              "      --fill-color: #1967D2;\n",
              "      --hover-bg-color: #E2EBFA;\n",
              "      --hover-fill-color: #174EA6;\n",
              "      --disabled-fill-color: #AAA;\n",
              "      --disabled-bg-color: #DDD;\n",
              "  }\n",
              "\n",
              "  [theme=dark] .colab-df-quickchart {\n",
              "      --bg-color: #3B4455;\n",
              "      --fill-color: #D2E3FC;\n",
              "      --hover-bg-color: #434B5C;\n",
              "      --hover-fill-color: #FFFFFF;\n",
              "      --disabled-bg-color: #3B4455;\n",
              "      --disabled-fill-color: #666;\n",
              "  }\n",
              "\n",
              "  .colab-df-quickchart {\n",
              "    background-color: var(--bg-color);\n",
              "    border: none;\n",
              "    border-radius: 50%;\n",
              "    cursor: pointer;\n",
              "    display: none;\n",
              "    fill: var(--fill-color);\n",
              "    height: 32px;\n",
              "    padding: 0;\n",
              "    width: 32px;\n",
              "  }\n",
              "\n",
              "  .colab-df-quickchart:hover {\n",
              "    background-color: var(--hover-bg-color);\n",
              "    box-shadow: 0 1px 2px rgba(60, 64, 67, 0.3), 0 1px 3px 1px rgba(60, 64, 67, 0.15);\n",
              "    fill: var(--button-hover-fill-color);\n",
              "  }\n",
              "\n",
              "  .colab-df-quickchart-complete:disabled,\n",
              "  .colab-df-quickchart-complete:disabled:hover {\n",
              "    background-color: var(--disabled-bg-color);\n",
              "    fill: var(--disabled-fill-color);\n",
              "    box-shadow: none;\n",
              "  }\n",
              "\n",
              "  .colab-df-spinner {\n",
              "    border: 2px solid var(--fill-color);\n",
              "    border-color: transparent;\n",
              "    border-bottom-color: var(--fill-color);\n",
              "    animation:\n",
              "      spin 1s steps(1) infinite;\n",
              "  }\n",
              "\n",
              "  @keyframes spin {\n",
              "    0% {\n",
              "      border-color: transparent;\n",
              "      border-bottom-color: var(--fill-color);\n",
              "      border-left-color: var(--fill-color);\n",
              "    }\n",
              "    20% {\n",
              "      border-color: transparent;\n",
              "      border-left-color: var(--fill-color);\n",
              "      border-top-color: var(--fill-color);\n",
              "    }\n",
              "    30% {\n",
              "      border-color: transparent;\n",
              "      border-left-color: var(--fill-color);\n",
              "      border-top-color: var(--fill-color);\n",
              "      border-right-color: var(--fill-color);\n",
              "    }\n",
              "    40% {\n",
              "      border-color: transparent;\n",
              "      border-right-color: var(--fill-color);\n",
              "      border-top-color: var(--fill-color);\n",
              "    }\n",
              "    60% {\n",
              "      border-color: transparent;\n",
              "      border-right-color: var(--fill-color);\n",
              "    }\n",
              "    80% {\n",
              "      border-color: transparent;\n",
              "      border-right-color: var(--fill-color);\n",
              "      border-bottom-color: var(--fill-color);\n",
              "    }\n",
              "    90% {\n",
              "      border-color: transparent;\n",
              "      border-bottom-color: var(--fill-color);\n",
              "    }\n",
              "  }\n",
              "</style>\n",
              "\n",
              "  <script>\n",
              "    async function quickchart(key) {\n",
              "      const quickchartButtonEl =\n",
              "        document.querySelector('#' + key + ' button');\n",
              "      quickchartButtonEl.disabled = true;  // To prevent multiple clicks.\n",
              "      quickchartButtonEl.classList.add('colab-df-spinner');\n",
              "      try {\n",
              "        const charts = await google.colab.kernel.invokeFunction(\n",
              "            'suggestCharts', [key], {});\n",
              "      } catch (error) {\n",
              "        console.error('Error during call to suggestCharts:', error);\n",
              "      }\n",
              "      quickchartButtonEl.classList.remove('colab-df-spinner');\n",
              "      quickchartButtonEl.classList.add('colab-df-quickchart-complete');\n",
              "    }\n",
              "    (() => {\n",
              "      let quickchartButtonEl =\n",
              "        document.querySelector('#df-934a860c-72a8-49d2-9ea2-40c93a6eab4c button');\n",
              "      quickchartButtonEl.style.display =\n",
              "        google.colab.kernel.accessAllowed ? 'block' : 'none';\n",
              "    })();\n",
              "  </script>\n",
              "</div>\n",
              "    </div>\n",
              "  </div>\n"
            ],
            "application/vnd.google.colaboratory.intrinsic+json": {
              "type": "dataframe",
              "summary": "{\n  \"name\": \"pd\",\n  \"rows\": 3,\n  \"fields\": [\n    {\n      \"column\": \"EqualW\",\n      \"properties\": {\n        \"dtype\": \"number\",\n        \"std\": 0.027757395976819615,\n        \"min\": 0.07173996405412042,\n        \"max\": 0.12267344426131542,\n        \"num_unique_values\": 3,\n        \"samples\": [\n          0.12267344426131542,\n          0.0780819939709114,\n          0.07173996405412042\n        ],\n        \"semantic_type\": \"\",\n        \"description\": \"\"\n      }\n    },\n    {\n      \"column\": \"MinVolW\",\n      \"properties\": {\n        \"dtype\": \"number\",\n        \"std\": 0.04037673150611467,\n        \"min\": 0.061067234129039756,\n        \"max\": 0.14164081015520538,\n        \"num_unique_values\": 3,\n        \"samples\": [\n          0.14164081015520538,\n          0.09668867369667927,\n          0.061067234129039756\n        ],\n        \"semantic_type\": \"\",\n        \"description\": \"\"\n      }\n    },\n    {\n      \"column\": \"MaxShapW\",\n      \"properties\": {\n        \"dtype\": \"number\",\n        \"std\": 0.216575510952702,\n        \"min\": -0.1960585937165936,\n        \"max\": 0.19197297420509377,\n        \"num_unique_values\": 3,\n        \"samples\": [\n          0.16465596815053693,\n          -0.1960585937165936,\n          0.19197297420509377\n        ],\n        \"semantic_type\": \"\",\n        \"description\": \"\"\n      }\n    }\n  ]\n}"
            }
          },
          "metadata": {},
          "execution_count": 13
        }
      ]
    },
    {
      "cell_type": "markdown",
      "source": [
        "Maximum Sharpe portfolio strategy implemented using the **DAX ESG** composition achieved the highest average daily return at 0.19%, followed by the same investment strategy under the **DAX Export**  composition at 0.16%. However, the maximum Sharpe investment strategy performed poorly under the **DAX Dividend** composition at a low of -0.2% average daily returns."
      ],
      "metadata": {
        "id": "5oJSiqJoUx26"
      }
    },
    {
      "cell_type": "code",
      "source": [
        "# Daily standard deviation\n",
        "std = {key: (df.std() * 100) for key, df in O_portRet.items()}\n",
        "pd.DataFrame(std).T"
      ],
      "metadata": {
        "colab": {
          "base_uri": "https://localhost:8080/",
          "height": 142
        },
        "id": "zMNwTkesM8Ek",
        "outputId": "540587de-e0a3-4cbc-e67d-f267b1b21bd2"
      },
      "execution_count": 14,
      "outputs": [
        {
          "output_type": "execute_result",
          "data": {
            "text/plain": [
              "              EqualW   MinVolW  MaxShapW\n",
              "DaxExpTick  0.762302  0.776743  0.799777\n",
              "DaxDivTick  0.638994  0.649333  1.846999\n",
              "DaxEsgTick  0.562315  0.590452  0.711464"
            ],
            "text/html": [
              "\n",
              "  <div id=\"df-e02fa9b0-2549-48a7-8577-ba4308872bb9\" class=\"colab-df-container\">\n",
              "    <div>\n",
              "<style scoped>\n",
              "    .dataframe tbody tr th:only-of-type {\n",
              "        vertical-align: middle;\n",
              "    }\n",
              "\n",
              "    .dataframe tbody tr th {\n",
              "        vertical-align: top;\n",
              "    }\n",
              "\n",
              "    .dataframe thead th {\n",
              "        text-align: right;\n",
              "    }\n",
              "</style>\n",
              "<table border=\"1\" class=\"dataframe\">\n",
              "  <thead>\n",
              "    <tr style=\"text-align: right;\">\n",
              "      <th></th>\n",
              "      <th>EqualW</th>\n",
              "      <th>MinVolW</th>\n",
              "      <th>MaxShapW</th>\n",
              "    </tr>\n",
              "  </thead>\n",
              "  <tbody>\n",
              "    <tr>\n",
              "      <th>DaxExpTick</th>\n",
              "      <td>0.762302</td>\n",
              "      <td>0.776743</td>\n",
              "      <td>0.799777</td>\n",
              "    </tr>\n",
              "    <tr>\n",
              "      <th>DaxDivTick</th>\n",
              "      <td>0.638994</td>\n",
              "      <td>0.649333</td>\n",
              "      <td>1.846999</td>\n",
              "    </tr>\n",
              "    <tr>\n",
              "      <th>DaxEsgTick</th>\n",
              "      <td>0.562315</td>\n",
              "      <td>0.590452</td>\n",
              "      <td>0.711464</td>\n",
              "    </tr>\n",
              "  </tbody>\n",
              "</table>\n",
              "</div>\n",
              "    <div class=\"colab-df-buttons\">\n",
              "\n",
              "  <div class=\"colab-df-container\">\n",
              "    <button class=\"colab-df-convert\" onclick=\"convertToInteractive('df-e02fa9b0-2549-48a7-8577-ba4308872bb9')\"\n",
              "            title=\"Convert this dataframe to an interactive table.\"\n",
              "            style=\"display:none;\">\n",
              "\n",
              "  <svg xmlns=\"http://www.w3.org/2000/svg\" height=\"24px\" viewBox=\"0 -960 960 960\">\n",
              "    <path d=\"M120-120v-720h720v720H120Zm60-500h600v-160H180v160Zm220 220h160v-160H400v160Zm0 220h160v-160H400v160ZM180-400h160v-160H180v160Zm440 0h160v-160H620v160ZM180-180h160v-160H180v160Zm440 0h160v-160H620v160Z\"/>\n",
              "  </svg>\n",
              "    </button>\n",
              "\n",
              "  <style>\n",
              "    .colab-df-container {\n",
              "      display:flex;\n",
              "      gap: 12px;\n",
              "    }\n",
              "\n",
              "    .colab-df-convert {\n",
              "      background-color: #E8F0FE;\n",
              "      border: none;\n",
              "      border-radius: 50%;\n",
              "      cursor: pointer;\n",
              "      display: none;\n",
              "      fill: #1967D2;\n",
              "      height: 32px;\n",
              "      padding: 0 0 0 0;\n",
              "      width: 32px;\n",
              "    }\n",
              "\n",
              "    .colab-df-convert:hover {\n",
              "      background-color: #E2EBFA;\n",
              "      box-shadow: 0px 1px 2px rgba(60, 64, 67, 0.3), 0px 1px 3px 1px rgba(60, 64, 67, 0.15);\n",
              "      fill: #174EA6;\n",
              "    }\n",
              "\n",
              "    .colab-df-buttons div {\n",
              "      margin-bottom: 4px;\n",
              "    }\n",
              "\n",
              "    [theme=dark] .colab-df-convert {\n",
              "      background-color: #3B4455;\n",
              "      fill: #D2E3FC;\n",
              "    }\n",
              "\n",
              "    [theme=dark] .colab-df-convert:hover {\n",
              "      background-color: #434B5C;\n",
              "      box-shadow: 0px 1px 3px 1px rgba(0, 0, 0, 0.15);\n",
              "      filter: drop-shadow(0px 1px 2px rgba(0, 0, 0, 0.3));\n",
              "      fill: #FFFFFF;\n",
              "    }\n",
              "  </style>\n",
              "\n",
              "    <script>\n",
              "      const buttonEl =\n",
              "        document.querySelector('#df-e02fa9b0-2549-48a7-8577-ba4308872bb9 button.colab-df-convert');\n",
              "      buttonEl.style.display =\n",
              "        google.colab.kernel.accessAllowed ? 'block' : 'none';\n",
              "\n",
              "      async function convertToInteractive(key) {\n",
              "        const element = document.querySelector('#df-e02fa9b0-2549-48a7-8577-ba4308872bb9');\n",
              "        const dataTable =\n",
              "          await google.colab.kernel.invokeFunction('convertToInteractive',\n",
              "                                                    [key], {});\n",
              "        if (!dataTable) return;\n",
              "\n",
              "        const docLinkHtml = 'Like what you see? Visit the ' +\n",
              "          '<a target=\"_blank\" href=https://colab.research.google.com/notebooks/data_table.ipynb>data table notebook</a>'\n",
              "          + ' to learn more about interactive tables.';\n",
              "        element.innerHTML = '';\n",
              "        dataTable['output_type'] = 'display_data';\n",
              "        await google.colab.output.renderOutput(dataTable, element);\n",
              "        const docLink = document.createElement('div');\n",
              "        docLink.innerHTML = docLinkHtml;\n",
              "        element.appendChild(docLink);\n",
              "      }\n",
              "    </script>\n",
              "  </div>\n",
              "\n",
              "\n",
              "<div id=\"df-aae640f2-daf0-4267-a949-c075a8f94a38\">\n",
              "  <button class=\"colab-df-quickchart\" onclick=\"quickchart('df-aae640f2-daf0-4267-a949-c075a8f94a38')\"\n",
              "            title=\"Suggest charts\"\n",
              "            style=\"display:none;\">\n",
              "\n",
              "<svg xmlns=\"http://www.w3.org/2000/svg\" height=\"24px\"viewBox=\"0 0 24 24\"\n",
              "     width=\"24px\">\n",
              "    <g>\n",
              "        <path d=\"M19 3H5c-1.1 0-2 .9-2 2v14c0 1.1.9 2 2 2h14c1.1 0 2-.9 2-2V5c0-1.1-.9-2-2-2zM9 17H7v-7h2v7zm4 0h-2V7h2v10zm4 0h-2v-4h2v4z\"/>\n",
              "    </g>\n",
              "</svg>\n",
              "  </button>\n",
              "\n",
              "<style>\n",
              "  .colab-df-quickchart {\n",
              "      --bg-color: #E8F0FE;\n",
              "      --fill-color: #1967D2;\n",
              "      --hover-bg-color: #E2EBFA;\n",
              "      --hover-fill-color: #174EA6;\n",
              "      --disabled-fill-color: #AAA;\n",
              "      --disabled-bg-color: #DDD;\n",
              "  }\n",
              "\n",
              "  [theme=dark] .colab-df-quickchart {\n",
              "      --bg-color: #3B4455;\n",
              "      --fill-color: #D2E3FC;\n",
              "      --hover-bg-color: #434B5C;\n",
              "      --hover-fill-color: #FFFFFF;\n",
              "      --disabled-bg-color: #3B4455;\n",
              "      --disabled-fill-color: #666;\n",
              "  }\n",
              "\n",
              "  .colab-df-quickchart {\n",
              "    background-color: var(--bg-color);\n",
              "    border: none;\n",
              "    border-radius: 50%;\n",
              "    cursor: pointer;\n",
              "    display: none;\n",
              "    fill: var(--fill-color);\n",
              "    height: 32px;\n",
              "    padding: 0;\n",
              "    width: 32px;\n",
              "  }\n",
              "\n",
              "  .colab-df-quickchart:hover {\n",
              "    background-color: var(--hover-bg-color);\n",
              "    box-shadow: 0 1px 2px rgba(60, 64, 67, 0.3), 0 1px 3px 1px rgba(60, 64, 67, 0.15);\n",
              "    fill: var(--button-hover-fill-color);\n",
              "  }\n",
              "\n",
              "  .colab-df-quickchart-complete:disabled,\n",
              "  .colab-df-quickchart-complete:disabled:hover {\n",
              "    background-color: var(--disabled-bg-color);\n",
              "    fill: var(--disabled-fill-color);\n",
              "    box-shadow: none;\n",
              "  }\n",
              "\n",
              "  .colab-df-spinner {\n",
              "    border: 2px solid var(--fill-color);\n",
              "    border-color: transparent;\n",
              "    border-bottom-color: var(--fill-color);\n",
              "    animation:\n",
              "      spin 1s steps(1) infinite;\n",
              "  }\n",
              "\n",
              "  @keyframes spin {\n",
              "    0% {\n",
              "      border-color: transparent;\n",
              "      border-bottom-color: var(--fill-color);\n",
              "      border-left-color: var(--fill-color);\n",
              "    }\n",
              "    20% {\n",
              "      border-color: transparent;\n",
              "      border-left-color: var(--fill-color);\n",
              "      border-top-color: var(--fill-color);\n",
              "    }\n",
              "    30% {\n",
              "      border-color: transparent;\n",
              "      border-left-color: var(--fill-color);\n",
              "      border-top-color: var(--fill-color);\n",
              "      border-right-color: var(--fill-color);\n",
              "    }\n",
              "    40% {\n",
              "      border-color: transparent;\n",
              "      border-right-color: var(--fill-color);\n",
              "      border-top-color: var(--fill-color);\n",
              "    }\n",
              "    60% {\n",
              "      border-color: transparent;\n",
              "      border-right-color: var(--fill-color);\n",
              "    }\n",
              "    80% {\n",
              "      border-color: transparent;\n",
              "      border-right-color: var(--fill-color);\n",
              "      border-bottom-color: var(--fill-color);\n",
              "    }\n",
              "    90% {\n",
              "      border-color: transparent;\n",
              "      border-bottom-color: var(--fill-color);\n",
              "    }\n",
              "  }\n",
              "</style>\n",
              "\n",
              "  <script>\n",
              "    async function quickchart(key) {\n",
              "      const quickchartButtonEl =\n",
              "        document.querySelector('#' + key + ' button');\n",
              "      quickchartButtonEl.disabled = true;  // To prevent multiple clicks.\n",
              "      quickchartButtonEl.classList.add('colab-df-spinner');\n",
              "      try {\n",
              "        const charts = await google.colab.kernel.invokeFunction(\n",
              "            'suggestCharts', [key], {});\n",
              "      } catch (error) {\n",
              "        console.error('Error during call to suggestCharts:', error);\n",
              "      }\n",
              "      quickchartButtonEl.classList.remove('colab-df-spinner');\n",
              "      quickchartButtonEl.classList.add('colab-df-quickchart-complete');\n",
              "    }\n",
              "    (() => {\n",
              "      let quickchartButtonEl =\n",
              "        document.querySelector('#df-aae640f2-daf0-4267-a949-c075a8f94a38 button');\n",
              "      quickchartButtonEl.style.display =\n",
              "        google.colab.kernel.accessAllowed ? 'block' : 'none';\n",
              "    })();\n",
              "  </script>\n",
              "</div>\n",
              "    </div>\n",
              "  </div>\n"
            ],
            "application/vnd.google.colaboratory.intrinsic+json": {
              "type": "dataframe",
              "summary": "{\n  \"name\": \"pd\",\n  \"rows\": 3,\n  \"fields\": [\n    {\n      \"column\": \"EqualW\",\n      \"properties\": {\n        \"dtype\": \"number\",\n        \"std\": 0.1008957412675284,\n        \"min\": 0.5623146837247388,\n        \"max\": 0.7623023723335963,\n        \"num_unique_values\": 3,\n        \"samples\": [\n          0.7623023723335963,\n          0.638994473867845,\n          0.5623146837247388\n        ],\n        \"semantic_type\": \"\",\n        \"description\": \"\"\n      }\n    },\n    {\n      \"column\": \"MinVolW\",\n      \"properties\": {\n        \"dtype\": \"number\",\n        \"std\": 0.09522318126069117,\n        \"min\": 0.5904520212532482,\n        \"max\": 0.7767432344361984,\n        \"num_unique_values\": 3,\n        \"samples\": [\n          0.7767432344361984,\n          0.6493332050954955,\n          0.5904520212532482\n        ],\n        \"semantic_type\": \"\",\n        \"description\": \"\"\n      }\n    },\n    {\n      \"column\": \"MaxShapW\",\n      \"properties\": {\n        \"dtype\": \"number\",\n        \"std\": 0.6316532336737692,\n        \"min\": 0.7114638845344605,\n        \"max\": 1.8469993665879914,\n        \"num_unique_values\": 3,\n        \"samples\": [\n          0.799776935752398,\n          1.8469993665879914,\n          0.7114638845344605\n        ],\n        \"semantic_type\": \"\",\n        \"description\": \"\"\n      }\n    }\n  ]\n}"
            }
          },
          "metadata": {},
          "execution_count": 14
        }
      ]
    },
    {
      "cell_type": "markdown",
      "source": [
        "\n",
        "\n",
        "While the maximum Sharpe strategy experienced a negative average daily return of -0.2% when implemented with the **DAX Dividend** composition, it also exhibited the highest daily volatility among other investment strategies across the other sectors at 1.85%."
      ],
      "metadata": {
        "id": "Z7QXOjAQWznH"
      }
    },
    {
      "cell_type": "code",
      "source": [
        "# Sharpe ratio\n",
        "SR = {key: (df.mean() / df.std()) for key, df in O_portRet.items()}\n",
        "pd.DataFrame(SR).T"
      ],
      "metadata": {
        "colab": {
          "base_uri": "https://localhost:8080/",
          "height": 142
        },
        "id": "KDMWs4gt-ca6",
        "outputId": "b8fe3f57-3770-472b-efba-91a2743f9da7"
      },
      "execution_count": 15,
      "outputs": [
        {
          "output_type": "execute_result",
          "data": {
            "text/plain": [
              "              EqualW   MinVolW  MaxShapW\n",
              "DaxExpTick  0.160925  0.182352  0.205877\n",
              "DaxDivTick  0.122195  0.148905 -0.106150\n",
              "DaxEsgTick  0.127580  0.103425  0.269828"
            ],
            "text/html": [
              "\n",
              "  <div id=\"df-1ff80704-588d-4fc8-b871-0130cc18d065\" class=\"colab-df-container\">\n",
              "    <div>\n",
              "<style scoped>\n",
              "    .dataframe tbody tr th:only-of-type {\n",
              "        vertical-align: middle;\n",
              "    }\n",
              "\n",
              "    .dataframe tbody tr th {\n",
              "        vertical-align: top;\n",
              "    }\n",
              "\n",
              "    .dataframe thead th {\n",
              "        text-align: right;\n",
              "    }\n",
              "</style>\n",
              "<table border=\"1\" class=\"dataframe\">\n",
              "  <thead>\n",
              "    <tr style=\"text-align: right;\">\n",
              "      <th></th>\n",
              "      <th>EqualW</th>\n",
              "      <th>MinVolW</th>\n",
              "      <th>MaxShapW</th>\n",
              "    </tr>\n",
              "  </thead>\n",
              "  <tbody>\n",
              "    <tr>\n",
              "      <th>DaxExpTick</th>\n",
              "      <td>0.160925</td>\n",
              "      <td>0.182352</td>\n",
              "      <td>0.205877</td>\n",
              "    </tr>\n",
              "    <tr>\n",
              "      <th>DaxDivTick</th>\n",
              "      <td>0.122195</td>\n",
              "      <td>0.148905</td>\n",
              "      <td>-0.106150</td>\n",
              "    </tr>\n",
              "    <tr>\n",
              "      <th>DaxEsgTick</th>\n",
              "      <td>0.127580</td>\n",
              "      <td>0.103425</td>\n",
              "      <td>0.269828</td>\n",
              "    </tr>\n",
              "  </tbody>\n",
              "</table>\n",
              "</div>\n",
              "    <div class=\"colab-df-buttons\">\n",
              "\n",
              "  <div class=\"colab-df-container\">\n",
              "    <button class=\"colab-df-convert\" onclick=\"convertToInteractive('df-1ff80704-588d-4fc8-b871-0130cc18d065')\"\n",
              "            title=\"Convert this dataframe to an interactive table.\"\n",
              "            style=\"display:none;\">\n",
              "\n",
              "  <svg xmlns=\"http://www.w3.org/2000/svg\" height=\"24px\" viewBox=\"0 -960 960 960\">\n",
              "    <path d=\"M120-120v-720h720v720H120Zm60-500h600v-160H180v160Zm220 220h160v-160H400v160Zm0 220h160v-160H400v160ZM180-400h160v-160H180v160Zm440 0h160v-160H620v160ZM180-180h160v-160H180v160Zm440 0h160v-160H620v160Z\"/>\n",
              "  </svg>\n",
              "    </button>\n",
              "\n",
              "  <style>\n",
              "    .colab-df-container {\n",
              "      display:flex;\n",
              "      gap: 12px;\n",
              "    }\n",
              "\n",
              "    .colab-df-convert {\n",
              "      background-color: #E8F0FE;\n",
              "      border: none;\n",
              "      border-radius: 50%;\n",
              "      cursor: pointer;\n",
              "      display: none;\n",
              "      fill: #1967D2;\n",
              "      height: 32px;\n",
              "      padding: 0 0 0 0;\n",
              "      width: 32px;\n",
              "    }\n",
              "\n",
              "    .colab-df-convert:hover {\n",
              "      background-color: #E2EBFA;\n",
              "      box-shadow: 0px 1px 2px rgba(60, 64, 67, 0.3), 0px 1px 3px 1px rgba(60, 64, 67, 0.15);\n",
              "      fill: #174EA6;\n",
              "    }\n",
              "\n",
              "    .colab-df-buttons div {\n",
              "      margin-bottom: 4px;\n",
              "    }\n",
              "\n",
              "    [theme=dark] .colab-df-convert {\n",
              "      background-color: #3B4455;\n",
              "      fill: #D2E3FC;\n",
              "    }\n",
              "\n",
              "    [theme=dark] .colab-df-convert:hover {\n",
              "      background-color: #434B5C;\n",
              "      box-shadow: 0px 1px 3px 1px rgba(0, 0, 0, 0.15);\n",
              "      filter: drop-shadow(0px 1px 2px rgba(0, 0, 0, 0.3));\n",
              "      fill: #FFFFFF;\n",
              "    }\n",
              "  </style>\n",
              "\n",
              "    <script>\n",
              "      const buttonEl =\n",
              "        document.querySelector('#df-1ff80704-588d-4fc8-b871-0130cc18d065 button.colab-df-convert');\n",
              "      buttonEl.style.display =\n",
              "        google.colab.kernel.accessAllowed ? 'block' : 'none';\n",
              "\n",
              "      async function convertToInteractive(key) {\n",
              "        const element = document.querySelector('#df-1ff80704-588d-4fc8-b871-0130cc18d065');\n",
              "        const dataTable =\n",
              "          await google.colab.kernel.invokeFunction('convertToInteractive',\n",
              "                                                    [key], {});\n",
              "        if (!dataTable) return;\n",
              "\n",
              "        const docLinkHtml = 'Like what you see? Visit the ' +\n",
              "          '<a target=\"_blank\" href=https://colab.research.google.com/notebooks/data_table.ipynb>data table notebook</a>'\n",
              "          + ' to learn more about interactive tables.';\n",
              "        element.innerHTML = '';\n",
              "        dataTable['output_type'] = 'display_data';\n",
              "        await google.colab.output.renderOutput(dataTable, element);\n",
              "        const docLink = document.createElement('div');\n",
              "        docLink.innerHTML = docLinkHtml;\n",
              "        element.appendChild(docLink);\n",
              "      }\n",
              "    </script>\n",
              "  </div>\n",
              "\n",
              "\n",
              "<div id=\"df-cbd3f3ed-0156-421e-8714-43a4c32d3b65\">\n",
              "  <button class=\"colab-df-quickchart\" onclick=\"quickchart('df-cbd3f3ed-0156-421e-8714-43a4c32d3b65')\"\n",
              "            title=\"Suggest charts\"\n",
              "            style=\"display:none;\">\n",
              "\n",
              "<svg xmlns=\"http://www.w3.org/2000/svg\" height=\"24px\"viewBox=\"0 0 24 24\"\n",
              "     width=\"24px\">\n",
              "    <g>\n",
              "        <path d=\"M19 3H5c-1.1 0-2 .9-2 2v14c0 1.1.9 2 2 2h14c1.1 0 2-.9 2-2V5c0-1.1-.9-2-2-2zM9 17H7v-7h2v7zm4 0h-2V7h2v10zm4 0h-2v-4h2v4z\"/>\n",
              "    </g>\n",
              "</svg>\n",
              "  </button>\n",
              "\n",
              "<style>\n",
              "  .colab-df-quickchart {\n",
              "      --bg-color: #E8F0FE;\n",
              "      --fill-color: #1967D2;\n",
              "      --hover-bg-color: #E2EBFA;\n",
              "      --hover-fill-color: #174EA6;\n",
              "      --disabled-fill-color: #AAA;\n",
              "      --disabled-bg-color: #DDD;\n",
              "  }\n",
              "\n",
              "  [theme=dark] .colab-df-quickchart {\n",
              "      --bg-color: #3B4455;\n",
              "      --fill-color: #D2E3FC;\n",
              "      --hover-bg-color: #434B5C;\n",
              "      --hover-fill-color: #FFFFFF;\n",
              "      --disabled-bg-color: #3B4455;\n",
              "      --disabled-fill-color: #666;\n",
              "  }\n",
              "\n",
              "  .colab-df-quickchart {\n",
              "    background-color: var(--bg-color);\n",
              "    border: none;\n",
              "    border-radius: 50%;\n",
              "    cursor: pointer;\n",
              "    display: none;\n",
              "    fill: var(--fill-color);\n",
              "    height: 32px;\n",
              "    padding: 0;\n",
              "    width: 32px;\n",
              "  }\n",
              "\n",
              "  .colab-df-quickchart:hover {\n",
              "    background-color: var(--hover-bg-color);\n",
              "    box-shadow: 0 1px 2px rgba(60, 64, 67, 0.3), 0 1px 3px 1px rgba(60, 64, 67, 0.15);\n",
              "    fill: var(--button-hover-fill-color);\n",
              "  }\n",
              "\n",
              "  .colab-df-quickchart-complete:disabled,\n",
              "  .colab-df-quickchart-complete:disabled:hover {\n",
              "    background-color: var(--disabled-bg-color);\n",
              "    fill: var(--disabled-fill-color);\n",
              "    box-shadow: none;\n",
              "  }\n",
              "\n",
              "  .colab-df-spinner {\n",
              "    border: 2px solid var(--fill-color);\n",
              "    border-color: transparent;\n",
              "    border-bottom-color: var(--fill-color);\n",
              "    animation:\n",
              "      spin 1s steps(1) infinite;\n",
              "  }\n",
              "\n",
              "  @keyframes spin {\n",
              "    0% {\n",
              "      border-color: transparent;\n",
              "      border-bottom-color: var(--fill-color);\n",
              "      border-left-color: var(--fill-color);\n",
              "    }\n",
              "    20% {\n",
              "      border-color: transparent;\n",
              "      border-left-color: var(--fill-color);\n",
              "      border-top-color: var(--fill-color);\n",
              "    }\n",
              "    30% {\n",
              "      border-color: transparent;\n",
              "      border-left-color: var(--fill-color);\n",
              "      border-top-color: var(--fill-color);\n",
              "      border-right-color: var(--fill-color);\n",
              "    }\n",
              "    40% {\n",
              "      border-color: transparent;\n",
              "      border-right-color: var(--fill-color);\n",
              "      border-top-color: var(--fill-color);\n",
              "    }\n",
              "    60% {\n",
              "      border-color: transparent;\n",
              "      border-right-color: var(--fill-color);\n",
              "    }\n",
              "    80% {\n",
              "      border-color: transparent;\n",
              "      border-right-color: var(--fill-color);\n",
              "      border-bottom-color: var(--fill-color);\n",
              "    }\n",
              "    90% {\n",
              "      border-color: transparent;\n",
              "      border-bottom-color: var(--fill-color);\n",
              "    }\n",
              "  }\n",
              "</style>\n",
              "\n",
              "  <script>\n",
              "    async function quickchart(key) {\n",
              "      const quickchartButtonEl =\n",
              "        document.querySelector('#' + key + ' button');\n",
              "      quickchartButtonEl.disabled = true;  // To prevent multiple clicks.\n",
              "      quickchartButtonEl.classList.add('colab-df-spinner');\n",
              "      try {\n",
              "        const charts = await google.colab.kernel.invokeFunction(\n",
              "            'suggestCharts', [key], {});\n",
              "      } catch (error) {\n",
              "        console.error('Error during call to suggestCharts:', error);\n",
              "      }\n",
              "      quickchartButtonEl.classList.remove('colab-df-spinner');\n",
              "      quickchartButtonEl.classList.add('colab-df-quickchart-complete');\n",
              "    }\n",
              "    (() => {\n",
              "      let quickchartButtonEl =\n",
              "        document.querySelector('#df-cbd3f3ed-0156-421e-8714-43a4c32d3b65 button');\n",
              "      quickchartButtonEl.style.display =\n",
              "        google.colab.kernel.accessAllowed ? 'block' : 'none';\n",
              "    })();\n",
              "  </script>\n",
              "</div>\n",
              "    </div>\n",
              "  </div>\n"
            ],
            "application/vnd.google.colaboratory.intrinsic+json": {
              "type": "dataframe",
              "summary": "{\n  \"name\": \"pd\",\n  \"rows\": 3,\n  \"fields\": [\n    {\n      \"column\": \"EqualW\",\n      \"properties\": {\n        \"dtype\": \"number\",\n        \"std\": 0.020979725284995185,\n        \"min\": 0.12219510052767697,\n        \"max\": 0.1609249147235127,\n        \"num_unique_values\": 3,\n        \"samples\": [\n          0.1609249147235127,\n          0.12219510052767697,\n          0.12757974516852236\n        ],\n        \"semantic_type\": \"\",\n        \"description\": \"\"\n      }\n    },\n    {\n      \"column\": \"MinVolW\",\n      \"properties\": {\n        \"dtype\": \"number\",\n        \"std\": 0.03961637299386338,\n        \"min\": 0.10342454921133662,\n        \"max\": 0.1823521646223489,\n        \"num_unique_values\": 3,\n        \"samples\": [\n          0.1823521646223489,\n          0.1489045576876968,\n          0.10342454921133662\n        ],\n        \"semantic_type\": \"\",\n        \"description\": \"\"\n      }\n    },\n    {\n      \"column\": \"MaxShapW\",\n      \"properties\": {\n        \"dtype\": \"number\",\n        \"std\": 0.20116744561719727,\n        \"min\": -0.10614978936282884,\n        \"max\": 0.2698281365760532,\n        \"num_unique_values\": 3,\n        \"samples\": [\n          0.20587736503758414,\n          -0.10614978936282884,\n          0.2698281365760532\n        ],\n        \"semantic_type\": \"\",\n        \"description\": \"\"\n      }\n    }\n  ]\n}"
            }
          },
          "metadata": {},
          "execution_count": 15
        }
      ]
    },
    {
      "cell_type": "markdown",
      "source": [
        " For the first quarter of 2024, the maximum Sharpe investment strategy implemented using the **DAX ESG** composition achieved the highest Sharpe ratio of 0.26.\n",
        "\n",
        "In conclusion, all investment strategies performed well with the **DAX ESG** composition, indicating stability in the ESG sector. However, while the maximum Sharpe ratio was outstanding under the **DAX Export** sector, it performed poorly under the **DAX Dividend** sector, recording a negative Sharpe ratio of -0.11. **A key takeaway from our analysis is that a unique investment strategy performs well for a certain sector**."
      ],
      "metadata": {
        "id": "CqtEXv4lUEKY"
      }
    },
    {
      "cell_type": "code",
      "source": [
        "import matplotlib.pyplot as plt\n",
        "plt.style.use('fivethirtyeight')\n",
        "\n",
        "pd.DataFrame(SR).T.plot(kind='bar', figsize=(8.5, 4.5), rot=0,\n",
        "                          title='2024 Q1 Sharpe Ratio')"
      ],
      "metadata": {
        "colab": {
          "base_uri": "https://localhost:8080/",
          "height": 472
        },
        "id": "bEAh4cmdLx_1",
        "outputId": "24621c13-1f1a-424a-dbc3-baf87cc79d3a"
      },
      "execution_count": 16,
      "outputs": [
        {
          "output_type": "execute_result",
          "data": {
            "text/plain": [
              "<Axes: title={'center': '2024 Q1 Sharpe Ratio'}>"
            ]
          },
          "metadata": {},
          "execution_count": 16
        },
        {
          "output_type": "display_data",
          "data": {
            "text/plain": [
              "<Figure size 850x450 with 1 Axes>"
            ],
            "image/png": "[encoded data removed]"
          },
          "metadata": {}
        }
      ]
    },
    {
      "cell_type": "markdown",
      "source": [
        "Empirical studies (quantitative research) have shown that the input parameters are often full of noise, that is lots of estimation errors are present in the parameters expected returns and variance-covariances, which often results to the optimizers optimizing these errors and reulting to poor portfolio allocation.\n",
        "\n",
        "In the future, we'll evaluate the impact of minimizing these estimation errors and assess their impact on how they perform out-of-sample. We plan to explore techniques such as Black-Litterman, shrinkage estimation, and even machine learning techniques to enhance the process of obtaining optimal portfolio weights that are optimal out-of-sample.\n",
        "\n",
        "It's worth noting that this analysis excludes some important aspects typically considered during backtesting. Examples of such aspects include but not limited to: transaction costs, slippage, survivorship bias, and liquidity constraints.\n",
        "\n",
        "As a result, the conclusions drawn from this analysis should not be entirely relied upon. We conclude this analysis by utilizing the DAX 40 index to produce an efficient frontier, and that will be it for now."
      ],
      "metadata": {
        "id": "RxpDmXfU_Rjs"
      }
    },
    {
      "cell_type": "markdown",
      "source": [
        "# The Efficient Frontier\n",
        "\n",
        "The **Efficient  Frontier** (EF) is a set of all non-dominated portfolios - these portfolios dominate all other portfolios in terms of expected returns given a certain level of risk (variances-covariances).  Put if differently, the EF comprises of all portfolios which have maximum return $\\mu_p$ for a given level of variance $\\sigma_p$"
      ],
      "metadata": {
        "id": "c0I0aQCVrN7s"
      }
    },
    {
      "cell_type": "code",
      "source": [
        "# URL of the Wikipedia page containing the list of DAX companies\n",
        "url = 'https://en.wikipedia.org/wiki/DAX'\n",
        "\n",
        "# Read HTML table from the URL\n",
        "dax_df = pd.read_html(url)[4]  #DAX 40 table is the fourth on the page\n",
        "\n",
        "# Extract the tickers from the 'Ticker' column\n",
        "dax_tickers = dax_df['Ticker'].tolist()\n",
        "\n",
        "# Display the first few tickers\n",
        "print(dax_tickers[:5])"
      ],
      "metadata": {
        "colab": {
          "base_uri": "https://localhost:8080/"
        },
        "id": "bA5hkWL21ICy",
        "outputId": "d62a79aa-34b7-4d37-b18e-d12dcb42f7b6"
      },
      "execution_count": 17,
      "outputs": [
        {
          "output_type": "stream",
          "name": "stdout",
          "text": [
            "['ADS.DE', 'AIR.DE', 'ALV.DE', 'BAS.DE', 'BAYN.DE']\n"
          ]
        }
      ]
    },
    {
      "cell_type": "code",
      "source": [
        "# Downlaod historical price data for each ticker, and show first five firms\n",
        "St = dt.datetime(2020, 3, 1)\n",
        "Sp = dt.datetime(2024, 3, 31)\n",
        "data = read_data(dax_tickers, St, Sp)\n",
        "print(data.shape)\n",
        "data.head().iloc[:, :5]"
      ],
      "metadata": {
        "colab": {
          "base_uri": "https://localhost:8080/",
          "height": 252
        },
        "id": "wbZ_9sew8FUt",
        "outputId": "6f70fca5-af91-48d1-8660-3be1158aea9a"
      },
      "execution_count": 18,
      "outputs": [
        {
          "output_type": "stream",
          "name": "stdout",
          "text": [
            "(1042, 40)\n"
          ]
        },
        {
          "output_type": "execute_result",
          "data": {
            "text/plain": [
              "                               ADS.DE      AIR.DE      ALV.DE     BAS.DE  \\\n",
              "Date                                                                       \n",
              "2020-03-02 00:00:00+01:00  238.553207  104.484947  157.062317  41.146854   \n",
              "2020-03-03 00:00:00+01:00  242.809631  108.858742  159.266006  41.511326   \n",
              "2020-03-04 00:00:00+01:00  244.163925  107.770149  160.902588  42.015392   \n",
              "2020-03-05 00:00:00+01:00  240.971619  104.523827  157.985931  41.348473   \n",
              "2020-03-06 00:00:00+01:00  233.184311   96.835670  153.043793  40.844414   \n",
              "\n",
              "                             BAYN.DE  \n",
              "Date                                  \n",
              "2020-03-02 00:00:00+01:00  55.697758  \n",
              "2020-03-03 00:00:00+01:00  54.910866  \n",
              "2020-03-04 00:00:00+01:00  57.297180  \n",
              "2020-03-05 00:00:00+01:00  56.732681  \n",
              "2020-03-06 00:00:00+01:00  54.551640  "
            ],
            "text/html": [
              "\n",
              "  <div id=\"df-58632ab9-9e41-4860-bf1c-ce490a54b200\" class=\"colab-df-container\">\n",
              "    <div>\n",
              "<style scoped>\n",
              "    .dataframe tbody tr th:only-of-type {\n",
              "        vertical-align: middle;\n",
              "    }\n",
              "\n",
              "    .dataframe tbody tr th {\n",
              "        vertical-align: top;\n",
              "    }\n",
              "\n",
              "    .dataframe thead th {\n",
              "        text-align: right;\n",
              "    }\n",
              "</style>\n",
              "<table border=\"1\" class=\"dataframe\">\n",
              "  <thead>\n",
              "    <tr style=\"text-align: right;\">\n",
              "      <th></th>\n",
              "      <th>ADS.DE</th>\n",
              "      <th>AIR.DE</th>\n",
              "      <th>ALV.DE</th>\n",
              "      <th>BAS.DE</th>\n",
              "      <th>BAYN.DE</th>\n",
              "    </tr>\n",
              "    <tr>\n",
              "      <th>Date</th>\n",
              "      <th></th>\n",
              "      <th></th>\n",
              "      <th></th>\n",
              "      <th></th>\n",
              "      <th></th>\n",
              "    </tr>\n",
              "  </thead>\n",
              "  <tbody>\n",
              "    <tr>\n",
              "      <th>2020-03-02 00:00:00+01:00</th>\n",
              "      <td>238.553207</td>\n",
              "      <td>104.484947</td>\n",
              "      <td>157.062317</td>\n",
              "      <td>41.146854</td>\n",
              "      <td>55.697758</td>\n",
              "    </tr>\n",
              "    <tr>\n",
              "      <th>2020-03-03 00:00:00+01:00</th>\n",
              "      <td>242.809631</td>\n",
              "      <td>108.858742</td>\n",
              "      <td>159.266006</td>\n",
              "      <td>41.511326</td>\n",
              "      <td>54.910866</td>\n",
              "    </tr>\n",
              "    <tr>\n",
              "      <th>2020-03-04 00:00:00+01:00</th>\n",
              "      <td>244.163925</td>\n",
              "      <td>107.770149</td>\n",
              "      <td>160.902588</td>\n",
              "      <td>42.015392</td>\n",
              "      <td>57.297180</td>\n",
              "    </tr>\n",
              "    <tr>\n",
              "      <th>2020-03-05 00:00:00+01:00</th>\n",
              "      <td>240.971619</td>\n",
              "      <td>104.523827</td>\n",
              "      <td>157.985931</td>\n",
              "      <td>41.348473</td>\n",
              "      <td>56.732681</td>\n",
              "    </tr>\n",
              "    <tr>\n",
              "      <th>2020-03-06 00:00:00+01:00</th>\n",
              "      <td>233.184311</td>\n",
              "      <td>96.835670</td>\n",
              "      <td>153.043793</td>\n",
              "      <td>40.844414</td>\n",
              "      <td>54.551640</td>\n",
              "    </tr>\n",
              "  </tbody>\n",
              "</table>\n",
              "</div>\n",
              "    <div class=\"colab-df-buttons\">\n",
              "\n",
              "  <div class=\"colab-df-container\">\n",
              "    <button class=\"colab-df-convert\" onclick=\"convertToInteractive('df-58632ab9-9e41-4860-bf1c-ce490a54b200')\"\n",
              "            title=\"Convert this dataframe to an interactive table.\"\n",
              "            style=\"display:none;\">\n",
              "\n",
              "  <svg xmlns=\"http://www.w3.org/2000/svg\" height=\"24px\" viewBox=\"0 -960 960 960\">\n",
              "    <path d=\"M120-120v-720h720v720H120Zm60-500h600v-160H180v160Zm220 220h160v-160H400v160Zm0 220h160v-160H400v160ZM180-400h160v-160H180v160Zm440 0h160v-160H620v160ZM180-180h160v-160H180v160Zm440 0h160v-160H620v160Z\"/>\n",
              "  </svg>\n",
              "    </button>\n",
              "\n",
              "  <style>\n",
              "    .colab-df-container {\n",
              "      display:flex;\n",
              "      gap: 12px;\n",
              "    }\n",
              "\n",
              "    .colab-df-convert {\n",
              "      background-color: #E8F0FE;\n",
              "      border: none;\n",
              "      border-radius: 50%;\n",
              "      cursor: pointer;\n",
              "      display: none;\n",
              "      fill: #1967D2;\n",
              "      height: 32px;\n",
              "      padding: 0 0 0 0;\n",
              "      width: 32px;\n",
              "    }\n",
              "\n",
              "    .colab-df-convert:hover {\n",
              "      background-color: #E2EBFA;\n",
              "      box-shadow: 0px 1px 2px rgba(60, 64, 67, 0.3), 0px 1px 3px 1px rgba(60, 64, 67, 0.15);\n",
              "      fill: #174EA6;\n",
              "    }\n",
              "\n",
              "    .colab-df-buttons div {\n",
              "      margin-bottom: 4px;\n",
              "    }\n",
              "\n",
              "    [theme=dark] .colab-df-convert {\n",
              "      background-color: #3B4455;\n",
              "      fill: #D2E3FC;\n",
              "    }\n",
              "\n",
              "    [theme=dark] .colab-df-convert:hover {\n",
              "      background-color: #434B5C;\n",
              "      box-shadow: 0px 1px 3px 1px rgba(0, 0, 0, 0.15);\n",
              "      filter: drop-shadow(0px 1px 2px rgba(0, 0, 0, 0.3));\n",
              "      fill: #FFFFFF;\n",
              "    }\n",
              "  </style>\n",
              "\n",
              "    <script>\n",
              "      const buttonEl =\n",
              "        document.querySelector('#df-58632ab9-9e41-4860-bf1c-ce490a54b200 button.colab-df-convert');\n",
              "      buttonEl.style.display =\n",
              "        google.colab.kernel.accessAllowed ? 'block' : 'none';\n",
              "\n",
              "      async function convertToInteractive(key) {\n",
              "        const element = document.querySelector('#df-58632ab9-9e41-4860-bf1c-ce490a54b200');\n",
              "        const dataTable =\n",
              "          await google.colab.kernel.invokeFunction('convertToInteractive',\n",
              "                                                    [key], {});\n",
              "        if (!dataTable) return;\n",
              "\n",
              "        const docLinkHtml = 'Like what you see? Visit the ' +\n",
              "          '<a target=\"_blank\" href=https://colab.research.google.com/notebooks/data_table.ipynb>data table notebook</a>'\n",
              "          + ' to learn more about interactive tables.';\n",
              "        element.innerHTML = '';\n",
              "        dataTable['output_type'] = 'display_data';\n",
              "        await google.colab.output.renderOutput(dataTable, element);\n",
              "        const docLink = document.createElement('div');\n",
              "        docLink.innerHTML = docLinkHtml;\n",
              "        element.appendChild(docLink);\n",
              "      }\n",
              "    </script>\n",
              "  </div>\n",
              "\n",
              "\n",
              "<div id=\"df-69cace04-12b9-49b5-af32-b9fbb96faf2d\">\n",
              "  <button class=\"colab-df-quickchart\" onclick=\"quickchart('df-69cace04-12b9-49b5-af32-b9fbb96faf2d')\"\n",
              "            title=\"Suggest charts\"\n",
              "            style=\"display:none;\">\n",
              "\n",
              "<svg xmlns=\"http://www.w3.org/2000/svg\" height=\"24px\"viewBox=\"0 0 24 24\"\n",
              "     width=\"24px\">\n",
              "    <g>\n",
              "        <path d=\"M19 3H5c-1.1 0-2 .9-2 2v14c0 1.1.9 2 2 2h14c1.1 0 2-.9 2-2V5c0-1.1-.9-2-2-2zM9 17H7v-7h2v7zm4 0h-2V7h2v10zm4 0h-2v-4h2v4z\"/>\n",
              "    </g>\n",
              "</svg>\n",
              "  </button>\n",
              "\n",
              "<style>\n",
              "  .colab-df-quickchart {\n",
              "      --bg-color: #E8F0FE;\n",
              "      --fill-color: #1967D2;\n",
              "      --hover-bg-color: #E2EBFA;\n",
              "      --hover-fill-color: #174EA6;\n",
              "      --disabled-fill-color: #AAA;\n",
              "      --disabled-bg-color: #DDD;\n",
              "  }\n",
              "\n",
              "  [theme=dark] .colab-df-quickchart {\n",
              "      --bg-color: #3B4455;\n",
              "      --fill-color: #D2E3FC;\n",
              "      --hover-bg-color: #434B5C;\n",
              "      --hover-fill-color: #FFFFFF;\n",
              "      --disabled-bg-color: #3B4455;\n",
              "      --disabled-fill-color: #666;\n",
              "  }\n",
              "\n",
              "  .colab-df-quickchart {\n",
              "    background-color: var(--bg-color);\n",
              "    border: none;\n",
              "    border-radius: 50%;\n",
              "    cursor: pointer;\n",
              "    display: none;\n",
              "    fill: var(--fill-color);\n",
              "    height: 32px;\n",
              "    padding: 0;\n",
              "    width: 32px;\n",
              "  }\n",
              "\n",
              "  .colab-df-quickchart:hover {\n",
              "    background-color: var(--hover-bg-color);\n",
              "    box-shadow: 0 1px 2px rgba(60, 64, 67, 0.3), 0 1px 3px 1px rgba(60, 64, 67, 0.15);\n",
              "    fill: var(--button-hover-fill-color);\n",
              "  }\n",
              "\n",
              "  .colab-df-quickchart-complete:disabled,\n",
              "  .colab-df-quickchart-complete:disabled:hover {\n",
              "    background-color: var(--disabled-bg-color);\n",
              "    fill: var(--disabled-fill-color);\n",
              "    box-shadow: none;\n",
              "  }\n",
              "\n",
              "  .colab-df-spinner {\n",
              "    border: 2px solid var(--fill-color);\n",
              "    border-color: transparent;\n",
              "    border-bottom-color: var(--fill-color);\n",
              "    animation:\n",
              "      spin 1s steps(1) infinite;\n",
              "  }\n",
              "\n",
              "  @keyframes spin {\n",
              "    0% {\n",
              "      border-color: transparent;\n",
              "      border-bottom-color: var(--fill-color);\n",
              "      border-left-color: var(--fill-color);\n",
              "    }\n",
              "    20% {\n",
              "      border-color: transparent;\n",
              "      border-left-color: var(--fill-color);\n",
              "      border-top-color: var(--fill-color);\n",
              "    }\n",
              "    30% {\n",
              "      border-color: transparent;\n",
              "      border-left-color: var(--fill-color);\n",
              "      border-top-color: var(--fill-color);\n",
              "      border-right-color: var(--fill-color);\n",
              "    }\n",
              "    40% {\n",
              "      border-color: transparent;\n",
              "      border-right-color: var(--fill-color);\n",
              "      border-top-color: var(--fill-color);\n",
              "    }\n",
              "    60% {\n",
              "      border-color: transparent;\n",
              "      border-right-color: var(--fill-color);\n",
              "    }\n",
              "    80% {\n",
              "      border-color: transparent;\n",
              "      border-right-color: var(--fill-color);\n",
              "      border-bottom-color: var(--fill-color);\n",
              "    }\n",
              "    90% {\n",
              "      border-color: transparent;\n",
              "      border-bottom-color: var(--fill-color);\n",
              "    }\n",
              "  }\n",
              "</style>\n",
              "\n",
              "  <script>\n",
              "    async function quickchart(key) {\n",
              "      const quickchartButtonEl =\n",
              "        document.querySelector('#' + key + ' button');\n",
              "      quickchartButtonEl.disabled = true;  // To prevent multiple clicks.\n",
              "      quickchartButtonEl.classList.add('colab-df-spinner');\n",
              "      try {\n",
              "        const charts = await google.colab.kernel.invokeFunction(\n",
              "            'suggestCharts', [key], {});\n",
              "      } catch (error) {\n",
              "        console.error('Error during call to suggestCharts:', error);\n",
              "      }\n",
              "      quickchartButtonEl.classList.remove('colab-df-spinner');\n",
              "      quickchartButtonEl.classList.add('colab-df-quickchart-complete');\n",
              "    }\n",
              "    (() => {\n",
              "      let quickchartButtonEl =\n",
              "        document.querySelector('#df-69cace04-12b9-49b5-af32-b9fbb96faf2d button');\n",
              "      quickchartButtonEl.style.display =\n",
              "        google.colab.kernel.accessAllowed ? 'block' : 'none';\n",
              "    })();\n",
              "  </script>\n",
              "</div>\n",
              "    </div>\n",
              "  </div>\n"
            ],
            "application/vnd.google.colaboratory.intrinsic+json": {
              "type": "dataframe",
              "variable_name": "data"
            }
          },
          "metadata": {},
          "execution_count": 18
        }
      ]
    },
    {
      "cell_type": "code",
      "source": [
        "#data.info()\n",
        "#data.isna().sum()"
      ],
      "metadata": {
        "id": "wJpgKy2ZAnh5"
      },
      "execution_count": 80,
      "outputs": []
    },
    {
      "cell_type": "code",
      "source": [
        "# Drop column with NA\n",
        "# data.isna().sum()\n",
        "Newdata = data.drop(['DTG.DE', 'DHL.DE', 'P911.DE',  'ENR.DE', ], axis = 1)\n",
        "Newdata.shape"
      ],
      "metadata": {
        "colab": {
          "base_uri": "https://localhost:8080/"
        },
        "id": "m8smKfFzRBOp",
        "outputId": "b3b3f3d4-9a3d-4fb3-a182-005852b6d0d6"
      },
      "execution_count": 19,
      "outputs": [
        {
          "output_type": "execute_result",
          "data": {
            "text/plain": [
              "(1042, 36)"
            ]
          },
          "metadata": {},
          "execution_count": 19
        }
      ]
    },
    {
      "cell_type": "code",
      "source": [
        "# Compute Returns\n",
        "ret = Newdata.pct_change().dropna() * 100\n",
        "print(ret.shape)"
      ],
      "metadata": {
        "colab": {
          "base_uri": "https://localhost:8080/"
        },
        "id": "8Bds9CZL_gsz",
        "outputId": "0821f216-ae11-448e-9e74-687c0e683b84"
      },
      "execution_count": 20,
      "outputs": [
        {
          "output_type": "stream",
          "name": "stdout",
          "text": [
            "(1041, 36)\n"
          ]
        }
      ]
    },
    {
      "cell_type": "code",
      "source": [
        "# Number of asset\n",
        "noa = len(ret.columns)\n",
        "\n",
        "# Initial weight: Equal weight\n",
        "w = np.repeat(1/noa, noa)\n"
      ],
      "metadata": {
        "id": "fxcgRPXx975h"
      },
      "execution_count": 21,
      "outputs": []
    },
    {
      "cell_type": "code",
      "source": [
        "# Portfolio return and portfolio variance function\n",
        "def port_ret(w):\n",
        "  return np.sum(ret.mean() * w) * 252\n",
        "\n",
        "def port_vol(w):\n",
        "  return np.sqrt(np.dot(w.T,  np.dot(ret.cov() * 252, w)))\n"
      ],
      "metadata": {
        "id": "P7TQUizl3pLJ"
      },
      "execution_count": 22,
      "outputs": []
    },
    {
      "cell_type": "code",
      "source": [
        "# @title Max Sharpe and Min Volatility portfolio: DAX 40\n",
        "# Now DAX 36: hahahaha! (4 stocks dropped due to missing values)\n",
        "\n",
        "def min_func_sharpe(w):\n",
        "  return - (port_ret(w) - 0.025) /port_vol(w)\n",
        "\n",
        "# Contraints and bounds\n",
        "cons = ({'type': 'eq', 'fun': lambda w: np.sum(w) - 1})\n",
        "bnds = tuple((0,1) for i in range(noa))\n",
        "\n",
        "# Maximizing the portfolio sharpe ratio\n",
        "optms = (sco.minimize(\n",
        "        # OF          # IW\n",
        "        min_func_sharpe, w, method = 'SLSQP', constraints= cons, bounds= bnds))\n",
        "\n",
        "msW = optms['x']\n",
        "msret = port_ret(msW)\n",
        "msvol = port_vol(msW)\n",
        "print(f'MaxPort Returns {msret} Vol {msvol}')\n",
        "\n",
        "# Minimizing the portfolio volatility\n",
        "optmv = (sco.minimize(\n",
        "        # OF   # IW\n",
        "        port_vol, w, method = 'SLSQP', constraints= cons, bounds= bnds))\n",
        "mvW = optmv['x']\n",
        "mvret = port_ret(mvW)\n",
        "mvvol = port_vol(mvW)\n",
        "print(f'MinPort Returns {mvret} Vol {mvvol}')\n"
      ],
      "metadata": {
        "colab": {
          "base_uri": "https://localhost:8080/"
        },
        "id": "7NOKFNceap_f",
        "outputId": "741af078-de66-4307-f8cc-345ba7878952"
      },
      "execution_count": 23,
      "outputs": [
        {
          "output_type": "stream",
          "name": "stdout",
          "text": [
            "MaxPort Returns 36.646441755970905 Vol 24.29401654271867\n",
            "MinPort Returns 11.813423558882864 Vol 14.288146245183501\n"
          ]
        }
      ]
    },
    {
      "cell_type": "code",
      "source": [
        "# @title Weight distribution: Maximum Sharpe portfolio\n",
        "print(pd.DataFrame(msW).max())\n",
        "pd.DataFrame(msW).plot(kind = 'hist', title = 'Weight Distribution' )\n",
        "''' Most stocks are allocated circa 0.0% of the  portfolio weights, whereas a\n",
        "whooping 44.15% of the weights are alloted to one stock - suboptimal weighting!'''"
      ],
      "metadata": {
        "colab": {
          "base_uri": "https://localhost:8080/",
          "height": 550
        },
        "id": "956GLSE2deof",
        "outputId": "ab5c35f2-ed07-4607-f991-3b7488697eb0"
      },
      "execution_count": 24,
      "outputs": [
        {
          "output_type": "stream",
          "name": "stdout",
          "text": [
            "0    0.441465\n",
            "dtype: float64\n"
          ]
        },
        {
          "output_type": "execute_result",
          "data": {
            "text/plain": [
              "' Most stocks are allocated circa 0.0% of the  portfolio weights, whereas a \\nwhooping 44.15% of the weights are alloted to one stock - suboptimal weighting!'"
            ],
            "application/vnd.google.colaboratory.intrinsic+json": {
              "type": "string"
            }
          },
          "metadata": {},
          "execution_count": 24
        },
        {
          "output_type": "display_data",
          "data": {
            "text/plain": [
              "<Figure size 640x480 with 1 Axes>"
            ],
            "image/png": "[encoded data removed]"
          },
          "metadata": {}
        }
      ]
    },
    {
      "cell_type": "code",
      "source": [
        "# @title Weight distribution: Minimum Volatility portfolio\n",
        "print(pd.DataFrame(mvW).max())\n",
        "pd.DataFrame(mvW).plot(kind = 'hist', title = 'Weight Distribution' )\n",
        "''' Likewise most stocks are apportioned approximately 0.0% of total weights '''"
      ],
      "metadata": {
        "colab": {
          "base_uri": "https://localhost:8080/",
          "height": 533
        },
        "id": "4c7urx7gcZNT",
        "outputId": "209cdadb-7f18-4825-d950-32179d7a54a0"
      },
      "execution_count": 25,
      "outputs": [
        {
          "output_type": "stream",
          "name": "stdout",
          "text": [
            "0    0.245748\n",
            "dtype: float64\n"
          ]
        },
        {
          "output_type": "execute_result",
          "data": {
            "text/plain": [
              "' Likewise most stocks are apportioned approximately 0.0% of total weights '"
            ],
            "application/vnd.google.colaboratory.intrinsic+json": {
              "type": "string"
            }
          },
          "metadata": {},
          "execution_count": 25
        },
        {
          "output_type": "display_data",
          "data": {
            "text/plain": [
              "<Figure size 640x480 with 1 Axes>"
            ],
            "image/png": "[encoded data removed]"
          },
          "metadata": {}
        }
      ]
    },
    {
      "cell_type": "markdown",
      "source": [],
      "metadata": {
        "id": "9XuBVeDGchvc"
      }
    },
    {
      "cell_type": "code",
      "source": [
        "# Contraints\n",
        "cons = ({'type': 'eq', 'fun': lambda w: port_ret(w) - tret} ,{'type': 'eq',\n",
        "       'fun': lambda w: np.sum(w) - 1})\n",
        "bnds = tuple((0,1) for i in range(noa))\n",
        "\n",
        "# Create a range of target expected returns and an empty list for volatilities\n",
        "trets = np.linspace(mvret * 0.75, msret * 1.1, 100)\n",
        "tvols = []\n",
        "\n",
        "# Minimize volatility for target expected returns\n",
        "for tret in trets:\n",
        "  res = (sco.minimize(port_vol, w, method = 'SLSQP',\n",
        "         constraints= cons, bounds= bnds))\n",
        "  tvols.append(res['fun'])\n",
        "\n",
        "tvols = np.array(tvols)\n"
      ],
      "metadata": {
        "id": "1iX-DCGnJOMw"
      },
      "execution_count": 26,
      "outputs": []
    },
    {
      "cell_type": "code",
      "source": [
        "# @title Efficient Frontier\n",
        "\n",
        "plt.figure(figsize=(8.5,5))\n",
        "plt.scatter(tvols, trets)\n",
        "plt.plot(tvols, trets, 'b', lw = 2)\n",
        "\n",
        "plt.plot(mvvol, mvret, 'g*', markersize = 15)\n",
        "plt.plot(msvol, msret, 'r*', markersize = 15)\n",
        "\n",
        "plt.xlabel('Expected Volatility')\n",
        "plt.ylabel('Expected Return')\n",
        "plt.show()"
      ],
      "metadata": {
        "colab": {
          "base_uri": "https://localhost:8080/",
          "height": 494
        },
        "id": "i2uzmgopX1MB",
        "outputId": "31acd84f-9449-42da-c6c1-aa2f070abf1b"
      },
      "execution_count": 27,
      "outputs": [
        {
          "output_type": "display_data",
          "data": {
            "text/plain": [
              "<Figure size 850x500 with 1 Axes>"
            ],
            "image/png": "[encoded data removed]"
          },
          "metadata": {}
        }
      ]
    },
    {
      "cell_type": "markdown",
      "source": [
        "# References\n",
        "\n",
        "Markowitz, H. M. (1952). Portfolio Selection. The Journal of Finance, 7(1), 77-91.\n",
        "\n",
        "Hilpisch, Y. (2019). Python for Finance, 2nd Edition. O’Reilly Media."
      ],
      "metadata": {
        "id": "QVviWUbiLbz9"
      }
    }
  ]
}